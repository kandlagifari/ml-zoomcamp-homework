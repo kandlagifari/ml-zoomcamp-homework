{
 "cells": [
  {
   "cell_type": "markdown",
   "id": "51c5cef6",
   "metadata": {
    "id": "51c5cef6"
   },
   "source": [
    "## Homework #1 "
   ]
  },
  {
   "cell_type": "markdown",
   "id": "9e18ef36",
   "metadata": {
    "id": "9e18ef36"
   },
   "source": [
    "### Set up the environment"
   ]
  },
  {
   "cell_type": "markdown",
   "id": "0a94d00b",
   "metadata": {
    "id": "0a94d00b"
   },
   "source": [
    "You need to install Python, NumPy, Pandas, Matplotlib and Seaborn. For that, you can the instructions from <a href='https://github.com/alexeygrigorev/mlbookcamp-code/blob/master/course-zoomcamp/01-intro/06-environment.md'>06-environment.md</a>."
   ]
  },
  {
   "cell_type": "code",
   "execution_count": 1,
   "id": "41eae4aa",
   "metadata": {
    "id": "41eae4aa"
   },
   "outputs": [],
   "source": [
    "import numpy as np\n",
    "import pandas as pd"
   ]
  },
  {
   "cell_type": "markdown",
   "id": "04514a64",
   "metadata": {
    "id": "04514a64"
   },
   "source": [
    "### Question 1"
   ]
  },
  {
   "cell_type": "markdown",
   "id": "39ca9b76",
   "metadata": {
    "id": "39ca9b76"
   },
   "source": [
    "What's the version of NumPy that you installed?\n",
    "\n",
    "You can get the version information using the `__version__` field:"
   ]
  },
  {
   "cell_type": "code",
   "execution_count": 2,
   "id": "be3ac3dd",
   "metadata": {
    "colab": {
     "base_uri": "https://localhost:8080/",
     "height": 36
    },
    "id": "be3ac3dd",
    "outputId": "b08ceaff-8060-4640-be48-435656007e7c"
   },
   "outputs": [
    {
     "data": {
      "text/plain": [
       "'1.5.3'"
      ]
     },
     "execution_count": 2,
     "metadata": {},
     "output_type": "execute_result"
    }
   ],
   "source": [
    "pd.__version__"
   ]
  },
  {
   "cell_type": "markdown",
   "id": "adce9d0b",
   "metadata": {
    "id": "adce9d0b"
   },
   "source": [
    "### Getting the data"
   ]
  },
  {
   "cell_type": "markdown",
   "id": "563f5833",
   "metadata": {
    "id": "563f5833"
   },
   "source": [
    "For this homework, we'll use the California Housing Prices dataset. Download it from <a href='https://raw.githubusercontent.com/alexeygrigorev/datasets/master/housing.csv'>here</a>. \n",
    "\n",
    "You can do it with wget:\n",
    "```bash\n",
    "wget https://raw.githubusercontent.com/alexeygrigorev/datasets/master/housing.csv\n",
    "```\n",
    "Or just open it with your browser and click \"Save as...\".\n",
    "\n",
    "Now read it with Pandas."
   ]
  },
  {
   "cell_type": "code",
   "execution_count": 3,
   "id": "4e9364c6",
   "metadata": {
    "id": "4e9364c6"
   },
   "outputs": [],
   "source": [
    "data = pd.read_csv(\"https://raw.githubusercontent.com/alexeygrigorev/datasets/master/housing.csv\")"
   ]
  },
  {
   "cell_type": "markdown",
   "id": "3787858f",
   "metadata": {
    "id": "3787858f"
   },
   "source": [
    "### Question 2"
   ]
  },
  {
   "cell_type": "markdown",
   "id": "abf0a8ef",
   "metadata": {
    "id": "abf0a8ef"
   },
   "source": [
    "How many records are in the dataset?"
   ]
  },
  {
   "cell_type": "code",
   "execution_count": 4,
   "id": "53c3bb22",
   "metadata": {
    "colab": {
     "base_uri": "https://localhost:8080/"
    },
    "id": "53c3bb22",
    "outputId": "f312d0d8-911f-413d-896e-fcc89a59c9ca"
   },
   "outputs": [
    {
     "data": {
      "text/plain": [
       "20640"
      ]
     },
     "execution_count": 4,
     "metadata": {},
     "output_type": "execute_result"
    }
   ],
   "source": [
    "data.shape[0]   # alternative is len(data.index)"
   ]
  },
  {
   "cell_type": "markdown",
   "id": "c5c5a015",
   "metadata": {
    "id": "c5c5a015"
   },
   "source": [
    "### Question 3"
   ]
  },
  {
   "cell_type": "markdown",
   "id": "215bb0f0",
   "metadata": {
    "id": "215bb0f0"
   },
   "source": [
    "Which columns in the dataset have missing values?"
   ]
  },
  {
   "cell_type": "code",
   "execution_count": 5,
   "id": "7ed74f01-c4d4-4d00-8252-3050f63ad27e",
   "metadata": {
    "colab": {
     "base_uri": "https://localhost:8080/"
    },
    "id": "u3aaRkGy7QiD",
    "outputId": "bacee4d9-ae98-4470-a18b-d15814720125"
   },
   "outputs": [
    {
     "data": {
      "text/plain": [
       "False"
      ]
     },
     "execution_count": 5,
     "metadata": {},
     "output_type": "execute_result"
    }
   ],
   "source": [
    "data['total_rooms'].isnull().sum() != 0"
   ]
  },
  {
   "cell_type": "code",
   "execution_count": 6,
   "id": "b47c1a7f-545f-4602-bb2b-65ba0aa5cfec",
   "metadata": {
    "colab": {
     "base_uri": "https://localhost:8080/"
    },
    "id": "u3aaRkGy7QiD",
    "outputId": "bacee4d9-ae98-4470-a18b-d15814720125"
   },
   "outputs": [
    {
     "data": {
      "text/plain": [
       "True"
      ]
     },
     "execution_count": 6,
     "metadata": {},
     "output_type": "execute_result"
    }
   ],
   "source": [
    "data['total_bedrooms'].isnull().sum() != 0"
   ]
  },
  {
   "cell_type": "markdown",
   "id": "2bc8dbef-7816-47cf-9ec3-231ecefb1fca",
   "metadata": {},
   "source": [
    "We can see that `total_bedrooms` column return `True` value, so there are missing values on that column.\n",
    "\n",
    "Or, we can also see the total number of missing value:"
   ]
  },
  {
   "cell_type": "code",
   "execution_count": 7,
   "id": "56d4c415-8ba1-4b90-a7b7-aee7c710c256",
   "metadata": {
    "colab": {
     "base_uri": "https://localhost:8080/"
    },
    "id": "u3aaRkGy7QiD",
    "outputId": "bacee4d9-ae98-4470-a18b-d15814720125"
   },
   "outputs": [
    {
     "data": {
      "text/plain": [
       "longitude               0\n",
       "latitude                0\n",
       "housing_median_age      0\n",
       "total_rooms             0\n",
       "total_bedrooms        207\n",
       "population              0\n",
       "households              0\n",
       "median_income           0\n",
       "median_house_value      0\n",
       "ocean_proximity         0\n",
       "dtype: int64"
      ]
     },
     "execution_count": 7,
     "metadata": {},
     "output_type": "execute_result"
    }
   ],
   "source": [
    "data.isnull().sum()"
   ]
  },
  {
   "cell_type": "markdown",
   "id": "Gs-F0NGmT1rY",
   "metadata": {
    "id": "Gs-F0NGmT1rY"
   },
   "source": [
    "### Question 4"
   ]
  },
  {
   "cell_type": "markdown",
   "id": "YEL7kG-qT40Z",
   "metadata": {
    "id": "YEL7kG-qT40Z"
   },
   "source": [
    "How many unique values does the `ocean_proximity` column have?"
   ]
  },
  {
   "cell_type": "code",
   "execution_count": 8,
   "id": "PqW9C9MK2oL_",
   "metadata": {
    "colab": {
     "base_uri": "https://localhost:8080/"
    },
    "id": "PqW9C9MK2oL_",
    "outputId": "3db57d44-b861-4ce5-85b3-3fbb2412f727"
   },
   "outputs": [
    {
     "data": {
      "text/plain": [
       "5"
      ]
     },
     "execution_count": 8,
     "metadata": {},
     "output_type": "execute_result"
    }
   ],
   "source": [
    "data['ocean_proximity'].nunique()"
   ]
  },
  {
   "cell_type": "markdown",
   "id": "838e8818-d322-4ff7-8d01-89486d3a2663",
   "metadata": {},
   "source": [
    "We can see that `ocean_proximity` column have 5 unique value\n",
    "\n",
    "We can also see each value of this column:"
   ]
  },
  {
   "cell_type": "code",
   "execution_count": 9,
   "id": "447a56fc-b747-4091-a52f-1e7cd8fdb1cd",
   "metadata": {
    "colab": {
     "base_uri": "https://localhost:8080/"
    },
    "id": "PqW9C9MK2oL_",
    "outputId": "3db57d44-b861-4ce5-85b3-3fbb2412f727"
   },
   "outputs": [
    {
     "data": {
      "text/plain": [
       "['NEAR BAY', '<1H OCEAN', 'INLAND', 'NEAR OCEAN', 'ISLAND']"
      ]
     },
     "execution_count": 9,
     "metadata": {},
     "output_type": "execute_result"
    }
   ],
   "source": [
    "data['ocean_proximity'].unique().tolist()"
   ]
  },
  {
   "cell_type": "markdown",
   "id": "1ede2dba",
   "metadata": {
    "id": "1ede2dba"
   },
   "source": [
    "### Question 5"
   ]
  },
  {
   "cell_type": "markdown",
   "id": "lmCmA9GIUPU0",
   "metadata": {
    "id": "lmCmA9GIUPU0"
   },
   "source": [
    "What's the average value of the `median_house_value` for the houses located near the bay?"
   ]
  },
  {
   "cell_type": "code",
   "execution_count": 10,
   "id": "IQ8dlAmw4ynp",
   "metadata": {
    "colab": {
     "base_uri": "https://localhost:8080/"
    },
    "id": "IQ8dlAmw4ynp",
    "outputId": "48b92886-fe77-48c9-d451-9d6838011894"
   },
   "outputs": [
    {
     "data": {
      "text/plain": [
       "259212.31179039303"
      ]
     },
     "execution_count": 10,
     "metadata": {},
     "output_type": "execute_result"
    }
   ],
   "source": [
    "data[data['ocean_proximity'] == 'NEAR BAY']['median_house_value'].mean()"
   ]
  },
  {
   "cell_type": "markdown",
   "id": "b8d3c661",
   "metadata": {
    "id": "b8d3c661"
   },
   "source": [
    "### Question 6"
   ]
  },
  {
   "cell_type": "markdown",
   "id": "46ecb87b",
   "metadata": {
    "id": "46ecb87b"
   },
   "source": [
    "1. Calculate the average of `total_bedrooms` column in the dataset.\n",
    "2. Use the `fillna` method to fill the missing values in `total_bedrooms` with the mean value from the previous step.\n",
    "3. Now, calculate the average of `total_bedrooms` again.\n",
    "4. Has it changed?\n",
    "\n",
    "Has it changed?"
   ]
  },
  {
   "cell_type": "markdown",
   "id": "290354aa-25bb-4b0b-a2d3-4a95a0f4e238",
   "metadata": {},
   "source": [
    "Firstly, we calculate the `old` data for `total_bedrooms` column, we can see that there are `207` columns have missing values"
   ]
  },
  {
   "cell_type": "code",
   "execution_count": 11,
   "id": "89eb5d07-2958-41a8-86f5-2b22c52a14ca",
   "metadata": {},
   "outputs": [
    {
     "data": {
      "text/plain": [
       "207"
      ]
     },
     "execution_count": 11,
     "metadata": {},
     "output_type": "execute_result"
    }
   ],
   "source": [
    "old_total_bedroomss_data = data['total_bedrooms'].isnull().sum()\n",
    "old_total_bedroomss_data"
   ]
  },
  {
   "cell_type": "code",
   "execution_count": 18,
   "id": "fbe08214-61f8-4450-868a-4a01b32cd393",
   "metadata": {
    "colab": {
     "base_uri": "https://localhost:8080/"
    },
    "id": "82besVeW3IKa",
    "outputId": "17d636da-d9d4-4fe5-ce7a-3db52e739486"
   },
   "outputs": [
    {
     "name": "stdout",
     "output_type": "stream",
     "text": [
      "Average for Old Data in total_bedrooms Column = 537.871\n"
     ]
    }
   ],
   "source": [
    "old_average_total_bedrooms = round(data['total_bedrooms'].mean(),3)\n",
    "print(f\"Average for Old Data in total_bedrooms Column = {old_average_total_bedrooms}\")"
   ]
  },
  {
   "cell_type": "markdown",
   "id": "feee5fd8-455f-4ec1-a38f-32154b63e52c",
   "metadata": {},
   "source": [
    "We also calculate the missing value of `new` data for `total_bedrooms` column after we fill the missing value columns with the average of old data\n",
    "\n",
    "We can see that, there are no missing value on the `new` data of `total_bedrooms` column"
   ]
  },
  {
   "cell_type": "code",
   "execution_count": 13,
   "id": "QG0ooQpm31z2",
   "metadata": {
    "colab": {
     "base_uri": "https://localhost:8080/"
    },
    "id": "QG0ooQpm31z2",
    "outputId": "ee0ab339-7d81-47ab-bdc0-d61a01639779"
   },
   "outputs": [
    {
     "data": {
      "text/plain": [
       "0"
      ]
     },
     "execution_count": 13,
     "metadata": {},
     "output_type": "execute_result"
    }
   ],
   "source": [
    "new_total_bedroomss_data = data['total_bedrooms'].fillna(old_average_total_bedrooms)\n",
    "new_total_bedroomss_data.isnull().sum()"
   ]
  },
  {
   "cell_type": "code",
   "execution_count": 19,
   "id": "2302ad09",
   "metadata": {
    "colab": {
     "base_uri": "https://localhost:8080/"
    },
    "id": "2302ad09",
    "outputId": "ea6b0f88-eb44-4d56-f234-4d4eb99d834b"
   },
   "outputs": [
    {
     "name": "stdout",
     "output_type": "stream",
     "text": [
      "Average for New Data in total_bedrooms Column = 537.871\n"
     ]
    }
   ],
   "source": [
    "new_average_total_bedrooms = round(new_total_bedroomss_data.mean(),3)\n",
    "print(f\"Average for New Data in total_bedrooms Column = {new_average_total_bedrooms}\")"
   ]
  },
  {
   "cell_type": "markdown",
   "id": "duf3vnEYm4yJ",
   "metadata": {
    "id": "duf3vnEYm4yJ"
   },
   "source": [
    "`No, it left the same with the 3 digits after the decimal point`\n",
    "\n",
    "old_average_total_bedrooms = 537.871\n",
    "\n",
    "new_average_total_bedrooms = 537.871\n",
    "\n",
    "It should be have impact on the dataset, however because the dataset have the large row, so it only give the little impact. "
   ]
  },
  {
   "cell_type": "markdown",
   "id": "1214682d",
   "metadata": {
    "id": "1214682d"
   },
   "source": [
    "### Question 7"
   ]
  },
  {
   "cell_type": "markdown",
   "id": "9a000f4e",
   "metadata": {
    "id": "9a000f4e"
   },
   "source": [
    "1. Select all the options located on islands.\n",
    "2. Select only columns `housing_median_age`, `total_rooms`, `total_bedrooms`.\n",
    "3. Get the underlying NumPy array. Let's call it `X`.\n",
    "4. Compute matrix-matrix multiplication between the transpose of `X` and `X`. To get the transpose, use `X.T`. Let's call the result `XTX`.\n",
    "5. Compute the inverse of `XTX`.\n",
    "6. Create an array `y` with values `[950, 1300, 800, 1000, 1300]`.\n",
    "7. Multiply the inverse of `XTX` with the transpose of `X`, and then multiply the result by `y`. Call the result `w`.\n",
    "8. What's the value of the last element of `w`?"
   ]
  },
  {
   "cell_type": "code",
   "execution_count": 15,
   "id": "3002ec54",
   "metadata": {
    "colab": {
     "base_uri": "https://localhost:8080/",
     "height": 332
    },
    "id": "3002ec54",
    "outputId": "104561a8-256e-490c-c7f2-56ecd074dae5"
   },
   "outputs": [
    {
     "ename": "KeyError",
     "evalue": "'Make'",
     "output_type": "error",
     "traceback": [
      "\u001b[1;31m---------------------------------------------------------------------------\u001b[0m",
      "\u001b[1;31mKeyError\u001b[0m                                  Traceback (most recent call last)",
      "File \u001b[1;32m~\\miniconda3\\envs\\machine-learning-study\\Lib\\site-packages\\pandas\\core\\indexes\\base.py:3802\u001b[0m, in \u001b[0;36mIndex.get_loc\u001b[1;34m(self, key, method, tolerance)\u001b[0m\n\u001b[0;32m   3801\u001b[0m \u001b[38;5;28;01mtry\u001b[39;00m:\n\u001b[1;32m-> 3802\u001b[0m     \u001b[38;5;28;01mreturn\u001b[39;00m \u001b[38;5;28mself\u001b[39m\u001b[38;5;241m.\u001b[39m_engine\u001b[38;5;241m.\u001b[39mget_loc(casted_key)\n\u001b[0;32m   3803\u001b[0m \u001b[38;5;28;01mexcept\u001b[39;00m \u001b[38;5;167;01mKeyError\u001b[39;00m \u001b[38;5;28;01mas\u001b[39;00m err:\n",
      "File \u001b[1;32m~\\miniconda3\\envs\\machine-learning-study\\Lib\\site-packages\\pandas\\_libs\\index.pyx:138\u001b[0m, in \u001b[0;36mpandas._libs.index.IndexEngine.get_loc\u001b[1;34m()\u001b[0m\n",
      "File \u001b[1;32m~\\miniconda3\\envs\\machine-learning-study\\Lib\\site-packages\\pandas\\_libs\\index.pyx:165\u001b[0m, in \u001b[0;36mpandas._libs.index.IndexEngine.get_loc\u001b[1;34m()\u001b[0m\n",
      "File \u001b[1;32mpandas\\_libs\\hashtable_class_helper.pxi:5745\u001b[0m, in \u001b[0;36mpandas._libs.hashtable.PyObjectHashTable.get_item\u001b[1;34m()\u001b[0m\n",
      "File \u001b[1;32mpandas\\_libs\\hashtable_class_helper.pxi:5753\u001b[0m, in \u001b[0;36mpandas._libs.hashtable.PyObjectHashTable.get_item\u001b[1;34m()\u001b[0m\n",
      "\u001b[1;31mKeyError\u001b[0m: 'Make'",
      "\nThe above exception was the direct cause of the following exception:\n",
      "\u001b[1;31mKeyError\u001b[0m                                  Traceback (most recent call last)",
      "Cell \u001b[1;32mIn[15], line 1\u001b[0m\n\u001b[1;32m----> 1\u001b[0m lotus_df \u001b[38;5;241m=\u001b[39m data[data[\u001b[38;5;124m'\u001b[39m\u001b[38;5;124mMake\u001b[39m\u001b[38;5;124m'\u001b[39m] \u001b[38;5;241m==\u001b[39m \u001b[38;5;124m'\u001b[39m\u001b[38;5;124mLotus\u001b[39m\u001b[38;5;124m'\u001b[39m]\n\u001b[0;32m      2\u001b[0m lotus_df \u001b[38;5;241m=\u001b[39m lotus_df[[\u001b[38;5;124m'\u001b[39m\u001b[38;5;124mEngine HP\u001b[39m\u001b[38;5;124m'\u001b[39m, \u001b[38;5;124m'\u001b[39m\u001b[38;5;124mEngine Cylinders\u001b[39m\u001b[38;5;124m'\u001b[39m]]\n\u001b[0;32m      3\u001b[0m lotus_df \u001b[38;5;241m=\u001b[39m lotus_df\u001b[38;5;241m.\u001b[39mdrop_duplicates()\n",
      "File \u001b[1;32m~\\miniconda3\\envs\\machine-learning-study\\Lib\\site-packages\\pandas\\core\\frame.py:3807\u001b[0m, in \u001b[0;36mDataFrame.__getitem__\u001b[1;34m(self, key)\u001b[0m\n\u001b[0;32m   3805\u001b[0m \u001b[38;5;28;01mif\u001b[39;00m \u001b[38;5;28mself\u001b[39m\u001b[38;5;241m.\u001b[39mcolumns\u001b[38;5;241m.\u001b[39mnlevels \u001b[38;5;241m>\u001b[39m \u001b[38;5;241m1\u001b[39m:\n\u001b[0;32m   3806\u001b[0m     \u001b[38;5;28;01mreturn\u001b[39;00m \u001b[38;5;28mself\u001b[39m\u001b[38;5;241m.\u001b[39m_getitem_multilevel(key)\n\u001b[1;32m-> 3807\u001b[0m indexer \u001b[38;5;241m=\u001b[39m \u001b[38;5;28mself\u001b[39m\u001b[38;5;241m.\u001b[39mcolumns\u001b[38;5;241m.\u001b[39mget_loc(key)\n\u001b[0;32m   3808\u001b[0m \u001b[38;5;28;01mif\u001b[39;00m is_integer(indexer):\n\u001b[0;32m   3809\u001b[0m     indexer \u001b[38;5;241m=\u001b[39m [indexer]\n",
      "File \u001b[1;32m~\\miniconda3\\envs\\machine-learning-study\\Lib\\site-packages\\pandas\\core\\indexes\\base.py:3804\u001b[0m, in \u001b[0;36mIndex.get_loc\u001b[1;34m(self, key, method, tolerance)\u001b[0m\n\u001b[0;32m   3802\u001b[0m     \u001b[38;5;28;01mreturn\u001b[39;00m \u001b[38;5;28mself\u001b[39m\u001b[38;5;241m.\u001b[39m_engine\u001b[38;5;241m.\u001b[39mget_loc(casted_key)\n\u001b[0;32m   3803\u001b[0m \u001b[38;5;28;01mexcept\u001b[39;00m \u001b[38;5;167;01mKeyError\u001b[39;00m \u001b[38;5;28;01mas\u001b[39;00m err:\n\u001b[1;32m-> 3804\u001b[0m     \u001b[38;5;28;01mraise\u001b[39;00m \u001b[38;5;167;01mKeyError\u001b[39;00m(key) \u001b[38;5;28;01mfrom\u001b[39;00m \u001b[38;5;21;01merr\u001b[39;00m\n\u001b[0;32m   3805\u001b[0m \u001b[38;5;28;01mexcept\u001b[39;00m \u001b[38;5;167;01mTypeError\u001b[39;00m:\n\u001b[0;32m   3806\u001b[0m     \u001b[38;5;66;03m# If we have a listlike key, _check_indexing_error will raise\u001b[39;00m\n\u001b[0;32m   3807\u001b[0m     \u001b[38;5;66;03m#  InvalidIndexError. Otherwise we fall through and re-raise\u001b[39;00m\n\u001b[0;32m   3808\u001b[0m     \u001b[38;5;66;03m#  the TypeError.\u001b[39;00m\n\u001b[0;32m   3809\u001b[0m     \u001b[38;5;28mself\u001b[39m\u001b[38;5;241m.\u001b[39m_check_indexing_error(key)\n",
      "\u001b[1;31mKeyError\u001b[0m: 'Make'"
     ]
    }
   ],
   "source": [
    "lotus_df = data[data['Make'] == 'Lotus']\n",
    "lotus_df = lotus_df[['Engine HP', 'Engine Cylinders']]\n",
    "lotus_df = lotus_df.drop_duplicates()\n",
    "lotus_df"
   ]
  },
  {
   "cell_type": "code",
   "execution_count": null,
   "id": "gOKb01VxqqL0",
   "metadata": {
    "colab": {
     "base_uri": "https://localhost:8080/"
    },
    "id": "gOKb01VxqqL0",
    "outputId": "3ea94af3-2927-42ba-fd73-ead0daaed7d7"
   },
   "outputs": [],
   "source": [
    "X = lotus_df.to_numpy()\n",
    "XTX = X.T @ X\n",
    "XTX_inv = np.linalg.inv(XTX)\n",
    "XTX_inv"
   ]
  },
  {
   "cell_type": "code",
   "execution_count": null,
   "id": "e0a2e43c",
   "metadata": {
    "id": "e0a2e43c"
   },
   "outputs": [],
   "source": [
    "y = np.array([1100, 800, 750, 850, 1300, 1000, 1000, 1300, 800])"
   ]
  },
  {
   "cell_type": "code",
   "execution_count": null,
   "id": "2449151d",
   "metadata": {
    "id": "2449151d"
   },
   "outputs": [],
   "source": [
    "w = (XTX_inv @ X.T) @ y"
   ]
  },
  {
   "cell_type": "code",
   "execution_count": null,
   "id": "c5e7fc75",
   "metadata": {
    "colab": {
     "base_uri": "https://localhost:8080/"
    },
    "id": "c5e7fc75",
    "outputId": "ccb80238-ae8c-4210-d3f4-cba73ba65af8"
   },
   "outputs": [],
   "source": [
    "w[0]"
   ]
  },
  {
   "cell_type": "markdown",
   "id": "wKnwSNmjn2gT",
   "metadata": {
    "id": "wKnwSNmjn2gT"
   },
   "source": [
    "> **Note**: we just implemented normal equation\n",
    "\n",
    "\n",
    "$$w = (X^T X)^{-1} X^T y$$\n",
    "\n",
    "\n",
    "We'll talk about it more in the next week (Machine Learning for Regression)"
   ]
  }
 ],
 "metadata": {
  "colab": {
   "collapsed_sections": [],
   "provenance": []
  },
  "kernelspec": {
   "display_name": "Python 3 (ipykernel)",
   "language": "python",
   "name": "python3"
  },
  "language_info": {
   "codemirror_mode": {
    "name": "ipython",
    "version": 3
   },
   "file_extension": ".py",
   "mimetype": "text/x-python",
   "name": "python",
   "nbconvert_exporter": "python",
   "pygments_lexer": "ipython3",
   "version": "3.11.4"
  }
 },
 "nbformat": 4,
 "nbformat_minor": 5
}
